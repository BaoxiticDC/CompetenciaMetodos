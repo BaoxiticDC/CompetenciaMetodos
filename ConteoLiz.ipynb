{
 "cells": [
  {
   "cell_type": "code",
   "execution_count": 1,
   "metadata": {},
   "outputs": [],
   "source": [
    "# pandas for data loading, manipulation etc.\n",
    "import pandas as pd\n",
    "\n",
    "\n",
    "# numeric functions\n",
    "import xgboost\n",
    "import numpy as np\n",
    "import collections\n",
    "import math\n",
    "import operator\n",
    "from scipy import stats\n",
    "from math import ceil\n",
    "import time\n",
    "import random as rnd\n",
    "\n",
    "# plotting\n",
    "import matplotlib.pyplot as plt\n",
    "import seaborn as sns\n",
    "import statsmodels.api as sm\n",
    "%matplotlib inline\n",
    "\n",
    "\n",
    "# modelling\n",
    "from sklearn.ensemble import RandomForestRegressor, GradientBoostingRegressor\n",
    "from sklearn.feature_selection import RFE,SelectFromModel\n",
    "\n",
    "from sklearn.linear_model import LinearRegression, Lasso, Ridge, ElasticNet,Lars,LassoLars,SGDRegressor\n",
    "from sklearn.linear_model import RidgeCV, LassoCV,BayesianRidge, LogisticRegression\n",
    "from sklearn.model_selection import GridSearchCV, RepeatedKFold, cross_val_score,train_test_split\n",
    "from sklearn.metrics import make_scorer,r2_score,mean_squared_error,roc_auc_score, accuracy_score\n",
    "from sklearn.neighbors import KNeighborsRegressor #,KNearestNeighborsRegressor\n",
    "from collections import OrderedDict\n",
    "\n",
    "from sklearn.pipeline import Pipeline\n",
    "from sklearn.preprocessing import StandardScaler,PolynomialFeatures, minmax_scale\n",
    "from sklearn.svm import LinearSVR, SVR\n",
    "from sklearn.tree import DecisionTreeRegressor\n",
    "\n",
    "import xgboost as xgb\n",
    "from xgboost import XGBRegressor\n",
    "\n",
    "import warnings\n",
    "#warnings.filterwarnings(\"ignore\")"
   ]
  },
  {
   "cell_type": "code",
   "execution_count": 2,
   "metadata": {},
   "outputs": [],
   "source": [
    "datos = pd.read_csv('datacountstudents.csv')\n",
    "datos = datos.iloc[:,1:]\n",
    "# prepare for modeling\n",
    "X = datos.drop(['yC'], axis=1)\n",
    "Y = datos['yC'].values"
   ]
  },
  {
   "cell_type": "code",
   "execution_count": 3,
   "metadata": {},
   "outputs": [],
   "source": [
    "X_train, X_test, y_train, y_test = train_test_split(X,Y, test_size = 0.3, random_state=3)\n",
    "\n",
    "# Create the Scaler object scaler = StandardScaler()\n",
    "standarscaler = StandardScaler()\n",
    "\n",
    "Xs = standarscaler.fit_transform(X_train)\n",
    "Xs = pd.DataFrame(Xs,index=X_train.index, columns=X_train.columns.values)\n",
    "Ytr=y_train"
   ]
  },
  {
   "cell_type": "code",
   "execution_count": 4,
   "metadata": {},
   "outputs": [],
   "source": [
    "Xt = X_test\n",
    "Yt = y_test\n",
    "\n",
    "Xts = standarscaler.transform(Xt)\n",
    "Xts = pd.DataFrame(Xts, index=Xt.index, columns=Xt.columns.values)"
   ]
  },
  {
   "cell_type": "code",
   "execution_count": 5,
   "metadata": {},
   "outputs": [],
   "source": [
    "train_x=Xs\n",
    "train_y=Ytr              "
   ]
  },
  {
   "cell_type": "code",
   "execution_count": 39,
   "metadata": {},
   "outputs": [],
   "source": [
    "#for tuning parameters\n",
    "parameters_for_testing = {\n",
    "    'colsample_bytree':[0.4,0.6,0.8],\n",
    "    'gamma':[0,0.03,0.1,0.3],\n",
    "    'min_child_weight':[1.5,6,10],\n",
    "    'learning_rate':[0.1,0.07],\n",
    "    'max_depth':[3,5],\n",
    "    'n_estimators':[10000],\n",
    "    'reg_alpha':[1e-5, 1e-2,  0.75],\n",
    "    'reg_lambda':[1e-5, 1e-2, 0.45],\n",
    "    'subsample':[0.6,0.95]  \n",
    "}"
   ]
  },
  {
   "cell_type": "markdown",
   "metadata": {},
   "source": [
    "#https://www.datacamp.com/community/tutorials/xgboost-in-python borrar"
   ]
  },
  {
   "cell_type": "code",
   "execution_count": 40,
   "metadata": {
    "scrolled": false
   },
   "outputs": [
    {
     "name": "stderr",
     "output_type": "stream",
     "text": [
      "C:\\Users\\lmosquera\\AppData\\Local\\Continuum\\anaconda3\\lib\\site-packages\\sklearn\\model_selection\\_split.py:1978: FutureWarning: The default value of cv will change from 3 to 5 in version 0.22. Specify it explicitly to silence this warning.\n",
      "  warnings.warn(CV_WARNING, FutureWarning)\n",
      "[Parallel(n_jobs=6)]: Using backend LokyBackend with 6 concurrent workers.\n"
     ]
    },
    {
     "name": "stdout",
     "output_type": "stream",
     "text": [
      "Fitting 3 folds for each of 2592 candidates, totalling 7776 fits\n"
     ]
    },
    {
     "name": "stderr",
     "output_type": "stream",
     "text": [
      "[Parallel(n_jobs=6)]: Done   1 tasks      | elapsed:   12.6s\n",
      "[Parallel(n_jobs=6)]: Done   6 tasks      | elapsed:   12.7s\n",
      "[Parallel(n_jobs=6)]: Done  13 tasks      | elapsed:   19.8s\n",
      "[Parallel(n_jobs=6)]: Done  20 tasks      | elapsed:   26.2s\n",
      "[Parallel(n_jobs=6)]: Done  29 tasks      | elapsed:   30.3s\n",
      "[Parallel(n_jobs=6)]: Done  38 tasks      | elapsed:   39.3s\n",
      "[Parallel(n_jobs=6)]: Done  49 tasks      | elapsed:   47.5s\n",
      "[Parallel(n_jobs=6)]: Done  60 tasks      | elapsed:   53.0s\n",
      "[Parallel(n_jobs=6)]: Done  73 tasks      | elapsed:  1.2min\n",
      "[Parallel(n_jobs=6)]: Done  86 tasks      | elapsed:  1.4min\n",
      "[Parallel(n_jobs=6)]: Done 101 tasks      | elapsed:  1.6min\n",
      "[Parallel(n_jobs=6)]: Done 116 tasks      | elapsed:  1.9min\n",
      "[Parallel(n_jobs=6)]: Done 133 tasks      | elapsed:  2.1min\n",
      "[Parallel(n_jobs=6)]: Done 150 tasks      | elapsed:  2.3min\n",
      "[Parallel(n_jobs=6)]: Done 169 tasks      | elapsed:  2.6min\n",
      "[Parallel(n_jobs=6)]: Done 188 tasks      | elapsed:  2.8min\n",
      "[Parallel(n_jobs=6)]: Done 209 tasks      | elapsed:  3.1min\n",
      "[Parallel(n_jobs=6)]: Done 230 tasks      | elapsed:  3.3min\n",
      "[Parallel(n_jobs=6)]: Done 253 tasks      | elapsed:  3.6min\n",
      "[Parallel(n_jobs=6)]: Done 276 tasks      | elapsed:  3.8min\n",
      "[Parallel(n_jobs=6)]: Done 301 tasks      | elapsed:  4.1min\n",
      "[Parallel(n_jobs=6)]: Done 326 tasks      | elapsed:  4.3min\n",
      "[Parallel(n_jobs=6)]: Done 353 tasks      | elapsed:  4.6min\n",
      "[Parallel(n_jobs=6)]: Done 380 tasks      | elapsed:  4.9min\n",
      "[Parallel(n_jobs=6)]: Done 409 tasks      | elapsed:  5.2min\n",
      "[Parallel(n_jobs=6)]: Done 438 tasks      | elapsed:  5.4min\n",
      "[Parallel(n_jobs=6)]: Done 469 tasks      | elapsed:  5.8min\n",
      "[Parallel(n_jobs=6)]: Done 500 tasks      | elapsed:  6.1min\n",
      "[Parallel(n_jobs=6)]: Done 533 tasks      | elapsed:  6.4min\n",
      "[Parallel(n_jobs=6)]: Done 566 tasks      | elapsed:  6.8min\n",
      "[Parallel(n_jobs=6)]: Done 601 tasks      | elapsed:  7.2min\n",
      "[Parallel(n_jobs=6)]: Done 636 tasks      | elapsed:  7.5min\n",
      "[Parallel(n_jobs=6)]: Done 673 tasks      | elapsed:  8.3min\n",
      "[Parallel(n_jobs=6)]: Done 710 tasks      | elapsed:  9.1min\n",
      "[Parallel(n_jobs=6)]: Done 749 tasks      | elapsed:  9.9min\n",
      "[Parallel(n_jobs=6)]: Done 788 tasks      | elapsed: 10.7min\n",
      "[Parallel(n_jobs=6)]: Done 829 tasks      | elapsed: 11.9min\n",
      "[Parallel(n_jobs=6)]: Done 870 tasks      | elapsed: 13.1min\n",
      "[Parallel(n_jobs=6)]: Done 913 tasks      | elapsed: 14.2min\n",
      "[Parallel(n_jobs=6)]: Done 956 tasks      | elapsed: 15.3min\n",
      "[Parallel(n_jobs=6)]: Done 1001 tasks      | elapsed: 16.6min\n",
      "[Parallel(n_jobs=6)]: Done 1046 tasks      | elapsed: 17.6min\n",
      "[Parallel(n_jobs=6)]: Done 1093 tasks      | elapsed: 18.7min\n",
      "[Parallel(n_jobs=6)]: Done 1140 tasks      | elapsed: 20.0min\n",
      "[Parallel(n_jobs=6)]: Done 1189 tasks      | elapsed: 22.4min\n",
      "[Parallel(n_jobs=6)]: Done 1238 tasks      | elapsed: 24.4min\n",
      "[Parallel(n_jobs=6)]: Done 1289 tasks      | elapsed: 25.9min\n",
      "[Parallel(n_jobs=6)]: Done 1340 tasks      | elapsed: 27.2min\n",
      "[Parallel(n_jobs=6)]: Done 1393 tasks      | elapsed: 28.5min\n",
      "[Parallel(n_jobs=6)]: Done 1446 tasks      | elapsed: 29.9min\n",
      "[Parallel(n_jobs=6)]: Done 1501 tasks      | elapsed: 31.8min\n",
      "[Parallel(n_jobs=6)]: Done 1556 tasks      | elapsed: 33.7min\n",
      "[Parallel(n_jobs=6)]: Done 1613 tasks      | elapsed: 35.4min\n",
      "[Parallel(n_jobs=6)]: Done 1670 tasks      | elapsed: 36.8min\n",
      "[Parallel(n_jobs=6)]: Done 1729 tasks      | elapsed: 38.4min\n",
      "[Parallel(n_jobs=6)]: Done 1788 tasks      | elapsed: 39.9min\n",
      "[Parallel(n_jobs=6)]: Done 1849 tasks      | elapsed: 42.3min\n",
      "[Parallel(n_jobs=6)]: Done 1910 tasks      | elapsed: 44.1min\n",
      "[Parallel(n_jobs=6)]: Done 1973 tasks      | elapsed: 45.9min\n",
      "[Parallel(n_jobs=6)]: Done 2036 tasks      | elapsed: 47.5min\n",
      "[Parallel(n_jobs=6)]: Done 2101 tasks      | elapsed: 49.1min\n",
      "[Parallel(n_jobs=6)]: Done 2166 tasks      | elapsed: 51.7min\n",
      "[Parallel(n_jobs=6)]: Done 2233 tasks      | elapsed: 53.8min\n",
      "[Parallel(n_jobs=6)]: Done 2300 tasks      | elapsed: 55.7min\n",
      "[Parallel(n_jobs=6)]: Done 2369 tasks      | elapsed: 57.5min\n",
      "[Parallel(n_jobs=6)]: Done 2438 tasks      | elapsed: 59.4min\n",
      "[Parallel(n_jobs=6)]: Done 2509 tasks      | elapsed: 62.0min\n",
      "[Parallel(n_jobs=6)]: Done 2580 tasks      | elapsed: 64.2min\n",
      "[Parallel(n_jobs=6)]: Done 2653 tasks      | elapsed: 65.5min\n",
      "[Parallel(n_jobs=6)]: Done 2726 tasks      | elapsed: 66.7min\n",
      "[Parallel(n_jobs=6)]: Done 2801 tasks      | elapsed: 67.9min\n",
      "[Parallel(n_jobs=6)]: Done 2876 tasks      | elapsed: 69.2min\n",
      "[Parallel(n_jobs=6)]: Done 2953 tasks      | elapsed: 70.5min\n",
      "[Parallel(n_jobs=6)]: Done 3030 tasks      | elapsed: 71.7min\n",
      "[Parallel(n_jobs=6)]: Done 3109 tasks      | elapsed: 73.1min\n",
      "[Parallel(n_jobs=6)]: Done 3188 tasks      | elapsed: 74.5min\n",
      "[Parallel(n_jobs=6)]: Done 3269 tasks      | elapsed: 76.3min\n",
      "[Parallel(n_jobs=6)]: Done 3350 tasks      | elapsed: 78.5min\n",
      "[Parallel(n_jobs=6)]: Done 3433 tasks      | elapsed: 81.7min\n",
      "[Parallel(n_jobs=6)]: Done 3516 tasks      | elapsed: 84.6min\n",
      "[Parallel(n_jobs=6)]: Done 3601 tasks      | elapsed: 87.2min\n",
      "[Parallel(n_jobs=6)]: Done 3686 tasks      | elapsed: 89.5min\n",
      "[Parallel(n_jobs=6)]: Done 3773 tasks      | elapsed: 92.6min\n",
      "[Parallel(n_jobs=6)]: Done 3860 tasks      | elapsed: 95.6min\n",
      "[Parallel(n_jobs=6)]: Done 3949 tasks      | elapsed: 98.4min\n",
      "[Parallel(n_jobs=6)]: Done 4038 tasks      | elapsed: 101.0min\n",
      "[Parallel(n_jobs=6)]: Done 4129 tasks      | elapsed: 104.8min\n",
      "[Parallel(n_jobs=6)]: Done 4220 tasks      | elapsed: 107.8min\n",
      "[Parallel(n_jobs=6)]: Done 4313 tasks      | elapsed: 110.7min\n",
      "[Parallel(n_jobs=6)]: Done 4406 tasks      | elapsed: 113.9min\n",
      "[Parallel(n_jobs=6)]: Done 4501 tasks      | elapsed: 117.6min\n",
      "[Parallel(n_jobs=6)]: Done 4596 tasks      | elapsed: 120.7min\n",
      "[Parallel(n_jobs=6)]: Done 4693 tasks      | elapsed: 123.4min\n",
      "[Parallel(n_jobs=6)]: Done 4790 tasks      | elapsed: 127.6min\n",
      "[Parallel(n_jobs=6)]: Done 4889 tasks      | elapsed: 131.0min\n",
      "[Parallel(n_jobs=6)]: Done 4988 tasks      | elapsed: 133.8min\n",
      "[Parallel(n_jobs=6)]: Done 5089 tasks      | elapsed: 137.8min\n",
      "[Parallel(n_jobs=6)]: Done 5190 tasks      | elapsed: 141.6min\n",
      "[Parallel(n_jobs=6)]: Done 5293 tasks      | elapsed: 143.5min\n",
      "[Parallel(n_jobs=6)]: Done 5396 tasks      | elapsed: 145.2min\n",
      "[Parallel(n_jobs=6)]: Done 5501 tasks      | elapsed: 147.2min\n",
      "[Parallel(n_jobs=6)]: Done 5606 tasks      | elapsed: 149.1min\n",
      "[Parallel(n_jobs=6)]: Done 5713 tasks      | elapsed: 151.1min\n",
      "[Parallel(n_jobs=6)]: Done 5820 tasks      | elapsed: 153.1min\n",
      "[Parallel(n_jobs=6)]: Done 5929 tasks      | elapsed: 156.5min\n",
      "[Parallel(n_jobs=6)]: Done 6038 tasks      | elapsed: 160.6min\n",
      "[Parallel(n_jobs=6)]: Done 6149 tasks      | elapsed: 164.9min\n",
      "[Parallel(n_jobs=6)]: Done 6260 tasks      | elapsed: 168.4min\n",
      "[Parallel(n_jobs=6)]: Done 6373 tasks      | elapsed: 172.8min\n",
      "[Parallel(n_jobs=6)]: Done 6486 tasks      | elapsed: 177.0min\n",
      "[Parallel(n_jobs=6)]: Done 6601 tasks      | elapsed: 180.8min\n",
      "[Parallel(n_jobs=6)]: Done 6716 tasks      | elapsed: 185.8min\n",
      "[Parallel(n_jobs=6)]: Done 6833 tasks      | elapsed: 190.3min\n",
      "[Parallel(n_jobs=6)]: Done 6950 tasks      | elapsed: 194.0min\n",
      "[Parallel(n_jobs=6)]: Done 7069 tasks      | elapsed: 199.6min\n",
      "[Parallel(n_jobs=6)]: Done 7188 tasks      | elapsed: 204.1min\n",
      "[Parallel(n_jobs=6)]: Done 7309 tasks      | elapsed: 208.4min\n",
      "[Parallel(n_jobs=6)]: Done 7430 tasks      | elapsed: 213.7min\n",
      "[Parallel(n_jobs=6)]: Done 7553 tasks      | elapsed: 218.0min\n",
      "[Parallel(n_jobs=6)]: Done 7676 tasks      | elapsed: 223.2min\n",
      "[Parallel(n_jobs=6)]: Done 7776 out of 7776 | elapsed: 227.1min finished\n"
     ]
    },
    {
     "name": "stdout",
     "output_type": "stream",
     "text": [
      "[04:08:42] WARNING: C:/Jenkins/workspace/xgboost-win64_release_0.90/src/objective/regression_obj.cu:152: reg:linear is now deprecated in favor of reg:squarederror.\n",
      "make_scorer(mean_squared_error, greater_is_better=False)\n",
      "best params\n",
      "{'colsample_bytree': 0.8, 'gamma': 0.3, 'learning_rate': 0.1, 'max_depth': 3, 'min_child_weight': 1.5, 'n_estimators': 10000, 'reg_alpha': 0.01, 'reg_lambda': 1e-05, 'subsample': 0.95}\n",
      "best score\n",
      "-1.4990082879864663\n"
     ]
    }
   ],
   "source": [
    "xgb_model = xgboost.XGBRegressor(learning_rate =0.1, n_estimators=10, max_depth=5,\n",
    "     min_child_weight=1, gamma=0, subsample=0.8, colsample_bytree=0.8, nthread=6, scale_pos_weight=1, seed=27)\n",
    "\n",
    "gsearch1 = GridSearchCV(estimator = xgb_model, param_grid = parameters_for_testing, n_jobs=6,iid=False, verbose=10,scoring='neg_mean_squared_error')\n",
    "gsearch1.fit(train_x,train_y)\n",
    "print (gsearch1.scorer_ ) # print (gsearch1.grid_scores_)\n",
    "print('best params')\n",
    "print (gsearch1.best_params_)\n",
    "print('best score')\n",
    "print (gsearch1.best_score_)"
   ]
  },
  {
   "cell_type": "code",
   "execution_count": 6,
   "metadata": {},
   "outputs": [],
   "source": [
    "data_dmatrix = xgb.DMatrix(data=Xs,label=Ytr)\n",
    "#params = {\"objective\":\"reg:squarederror\",'colsample_bytree': 0.3,'learning_rate': 0.1, 'max_depth': 5,'alpha': 10}#, 'n_estimators' : 10\n",
    "params ={\"objective\":\"reg:squarederror\",'colsample_bytree': 0.8, 'gamma': 0.3, 'learning_rate': 0.1, 'max_depth': 5, 'min_child_weight': 1.5, 'n_estimators': 100, 'reg_alpha': 0.01, 'reg_lambda': 1e-05, 'subsample': 0.95}"
   ]
  },
  {
   "cell_type": "code",
   "execution_count": 7,
   "metadata": {
    "scrolled": true
   },
   "outputs": [],
   "source": [
    "xg_reg = xgb.train(params=params, dtrain=data_dmatrix, num_boost_round=10)"
   ]
  },
  {
   "cell_type": "code",
   "execution_count": 8,
   "metadata": {},
   "outputs": [
    {
     "data": {
      "image/png": "[encoded data removed]",
      "text/plain": [
       "<Figure size 432x288 with 1 Axes>"
      ]
     },
     "metadata": {
      "needs_background": "light"
     },
     "output_type": "display_data"
    }
   ],
   "source": [
    "xgb.plot_importance(xg_reg)\n",
    "plt.rcParams['figure.figsize'] = [20, 20]\n",
    "plt.show()"
   ]
  },
  {
   "cell_type": "code",
   "execution_count": 9,
   "metadata": {},
   "outputs": [
    {
     "data": {
      "text/plain": [
       "1.1352924243950935"
      ]
     },
     "execution_count": 9,
     "metadata": {},
     "output_type": "execute_result"
    }
   ],
   "source": [
    "xg_reg = xgb.XGBRegressor(objective ='count:poisson')\n",
    "xg_reg.fit(Xs[['x8', 'x10', 'x1', 'x31', 'x27', 'x23', 'x3','x25']],Ytr) #,,'x' , 'x31', 'x27', 'x23', 'x3','x25', 'x32', 'x22', 'x9', 'x12', 'x11', 'x14', 'x24', 'x21'\n",
    "preds = xg_reg.predict(Xts[['x8', 'x10', 'x1', 'x31', 'x27', 'x23', 'x3','x25']])#7 l.r.0.1\n",
    "np.sqrt(mean_squared_error(Yt, np.round(preds)))"
   ]
  },
  {
   "cell_type": "code",
   "execution_count": 10,
   "metadata": {},
   "outputs": [
    {
     "name": "stdout",
     "output_type": "stream",
     "text": [
      "0.31250296899684116\n"
     ]
    }
   ],
   "source": [
    "from sklearn.metrics import explained_variance_score\n",
    "print(explained_variance_score(Yt,preds))"
   ]
  },
  {
   "cell_type": "code",
   "execution_count": 11,
   "metadata": {},
   "outputs": [],
   "source": [
    "cv_results = xgb.cv(dtrain=data_dmatrix, params=params, nfold=3,\n",
    "                    num_boost_round=50,early_stopping_rounds=10,metrics=\"rmse\", as_pandas=True, seed=123)"
   ]
  },
  {
   "cell_type": "code",
   "execution_count": 12,
   "metadata": {},
   "outputs": [
    {
     "data": {
      "text/html": [
       "<div>\n",
       "<style scoped>\n",
       "    .dataframe tbody tr th:only-of-type {\n",
       "        vertical-align: middle;\n",
       "    }\n",
       "\n",
       "    .dataframe tbody tr th {\n",
       "        vertical-align: top;\n",
       "    }\n",
       "\n",
       "    .dataframe thead th {\n",
       "        text-align: right;\n",
       "    }\n",
       "</style>\n",
       "<table border=\"1\" class=\"dataframe\">\n",
       "  <thead>\n",
       "    <tr style=\"text-align: right;\">\n",
       "      <th></th>\n",
       "      <th>train-rmse-mean</th>\n",
       "      <th>train-rmse-std</th>\n",
       "      <th>test-rmse-mean</th>\n",
       "      <th>test-rmse-std</th>\n",
       "    </tr>\n",
       "  </thead>\n",
       "  <tbody>\n",
       "    <tr>\n",
       "      <th>0</th>\n",
       "      <td>1.449760</td>\n",
       "      <td>0.040591</td>\n",
       "      <td>1.533601</td>\n",
       "      <td>0.095235</td>\n",
       "    </tr>\n",
       "    <tr>\n",
       "      <th>1</th>\n",
       "      <td>1.336380</td>\n",
       "      <td>0.032029</td>\n",
       "      <td>1.494880</td>\n",
       "      <td>0.092330</td>\n",
       "    </tr>\n",
       "    <tr>\n",
       "      <th>2</th>\n",
       "      <td>1.241498</td>\n",
       "      <td>0.024312</td>\n",
       "      <td>1.467062</td>\n",
       "      <td>0.086750</td>\n",
       "    </tr>\n",
       "    <tr>\n",
       "      <th>3</th>\n",
       "      <td>1.148933</td>\n",
       "      <td>0.022559</td>\n",
       "      <td>1.431811</td>\n",
       "      <td>0.080204</td>\n",
       "    </tr>\n",
       "    <tr>\n",
       "      <th>4</th>\n",
       "      <td>1.060890</td>\n",
       "      <td>0.023062</td>\n",
       "      <td>1.405960</td>\n",
       "      <td>0.075718</td>\n",
       "    </tr>\n",
       "  </tbody>\n",
       "</table>\n",
       "</div>"
      ],
      "text/plain": [
       "   train-rmse-mean  train-rmse-std  test-rmse-mean  test-rmse-std\n",
       "0         1.449760        0.040591        1.533601       0.095235\n",
       "1         1.336380        0.032029        1.494880       0.092330\n",
       "2         1.241498        0.024312        1.467062       0.086750\n",
       "3         1.148933        0.022559        1.431811       0.080204\n",
       "4         1.060890        0.023062        1.405960       0.075718"
      ]
     },
     "execution_count": 12,
     "metadata": {},
     "output_type": "execute_result"
    }
   ],
   "source": [
    "cv_results.head()"
   ]
  },
  {
   "cell_type": "code",
   "execution_count": 13,
   "metadata": {},
   "outputs": [
    {
     "name": "stdout",
     "output_type": "stream",
     "text": [
      "14    1.289095\n",
      "Name: test-rmse-mean, dtype: float64\n"
     ]
    }
   ],
   "source": [
    "print((cv_results[\"test-rmse-mean\"]).tail(1))"
   ]
  },
  {
   "cell_type": "code",
   "execution_count": 14,
   "metadata": {},
   "outputs": [
    {
     "data": {
      "text/plain": [
       "<matplotlib.collections.PathCollection at 0x2018b1224e0>"
      ]
     },
     "execution_count": 14,
     "metadata": {},
     "output_type": "execute_result"
    },
    {
     "data": {
      "image/png": "[encoded data removed]",
      "text/plain": [
       "<Figure size 1440x1440 with 1 Axes>"
      ]
     },
     "metadata": {
      "needs_background": "light"
     },
     "output_type": "display_data"
    }
   ],
   "source": [
    "plt.scatter(Yt, np.round(preds), color = 'red')\n"
   ]
  }
 ],
 "metadata": {
  "kernelspec": {
   "display_name": "Python 3",
   "language": "python",
   "name": "python3"
  },
  "language_info": {
   "codemirror_mode": {
    "name": "ipython",
    "version": 3
   },
   "file_extension": ".py",
   "mimetype": "text/x-python",
   "name": "python",
   "nbconvert_exporter": "python",
   "pygments_lexer": "ipython3",
   "version": "3.7.1"
  }
 },
 "nbformat": 4,
 "nbformat_minor": 2
}
